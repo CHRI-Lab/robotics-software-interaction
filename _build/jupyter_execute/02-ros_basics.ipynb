{
 "cells": [
  {
   "cell_type": "code",
   "execution_count": 1,
   "metadata": {},
   "outputs": [
    {
     "name": "stderr",
     "output_type": "stream",
     "text": [
      "WARNING: cannot load logging configuration file, logging is disabled\n"
     ]
    },
    {
     "name": "stdout",
     "output_type": "stream",
     "text": [
      "Unable to register with master node [http://localhost:11311/]: master may not be running yet. Will keep trying.\n"
     ]
    }
   ],
   "source": [
    "import jupyros as jr\n",
    "import rospy\n",
    "from std_msgs.msg import String\n",
    "\n",
    "rospy.init_node('jupyter_node')\n",
    "jr.subscribe('/sometopic', String, lambda msg: print(msg))"
   ]
  },
  {
   "cell_type": "code",
   "execution_count": 2,
   "metadata": {},
   "outputs": [],
   "source": [
    "import sys\n",
    "sys.path.append('/opt/ros/melodic/lib/python2.7/dist-packages/')\n",
    "\n",
    "# The next line should now work!\n",
    "import jupyros"
   ]
  },
  {
   "cell_type": "code",
   "execution_count": null,
   "metadata": {},
   "outputs": [],
   "source": []
  }
 ],
 "metadata": {
  "kernelspec": {
   "display_name": "Python 3.9.7 ('base')",
   "language": "python",
   "name": "python3"
  },
  "language_info": {
   "codemirror_mode": {
    "name": "ipython",
    "version": 3
   },
   "file_extension": ".py",
   "mimetype": "text/x-python",
   "name": "python",
   "nbconvert_exporter": "python",
   "pygments_lexer": "ipython3",
   "version": "3.9.10"
  },
  "vscode": {
   "interpreter": {
    "hash": "736c46f7cc6be9ce81e4acc0552867abcb55778abf2647b8aac52f891b7ed32a"
   }
  }
 },
 "nbformat": 4,
 "nbformat_minor": 2
}